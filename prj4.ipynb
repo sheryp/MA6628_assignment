{
 "cells": [
  {
   "cell_type": "markdown",
   "metadata": {
    "collapsed": false
   },
   "source": [
    "Prj04\n",
    "\n",
    "Consider the following data sets:\n",
    "\n",
    "Today: Sep 27, 2018\n",
    "\n",
    "Spot price: 290.68\n",
    "\n",
    "Maturity: Dec 31, 2018\n",
    "\n",
    "Strike: 288\n",
    "\n",
    "rate: 0.02 (from https://www.treasury.gov/resource-center/data-chart-center/interest-rates/Pages/TextView.aspx?data=yield)\n",
    "\n",
    "Market call price: 9.23"
   ]
  },
  {
   "cell_type": "code",
   "execution_count": 3,
   "metadata": {
    "collapsed": false
   },
   "outputs": [
    {
     "name": "stdout",
     "output_type": "stream",
     "text": [
      "If the volatility is 30%, we can calculate the call value is 19.769937820552116\n",
      "Optimization terminated successfully.\n",
      "         Current function value: 0.000000\n",
      "         Iterations: 15\n",
      "         Function evaluations: 30\n",
      "Implied volatility is 0.11824218749999948\n"
     ]
    },
    {
     "data": {
      "text/plain": [
       "9.230462795990405"
      ]
     },
     "execution_count": 3,
     "metadata": {
     },
     "output_type": "execute_result"
    }
   ],
   "source": [
    "import numpy as np\n",
    "import scipy.stats as ss\n",
    "import time \n",
    "import math\n",
    "import scipy as sp\n",
    "\n",
    "def d1f(St, K, t, T, r, sigma):\n",
    "    ''' Black-Scholes-Merton d1 function.\n",
    "        Parameters see e.g. BSM_call_value function. '''\n",
    "    d1 = (math.log(St / K) + (r + 0.5 * sigma ** 2)\n",
    "          * (T - t)) / (sigma * math.sqrt(T - t))\n",
    "    return d1\n",
    "    \n",
    "def BSM_call_value(St, K, t, T, r, sigma):\n",
    "    d1 = d1f(St, K, t, T, r, sigma)\n",
    "    d2 = d1 - sigma * math.sqrt(T - t)\n",
    "    call_value = St * ss.norm.cdf(d1) - math.exp(-r * (T - t)) * K * ss.norm.cdf(d2)\n",
    "    return call_value\n",
    "    \n",
    "#apply the assignment4‘s data here\n",
    "Today = np.datetime64('2018-09-27')\n",
    "Maturity = np.datetime64('2018-12-31')\n",
    "T = (Maturity - Today)/np.timedelta64(1,'D')/365 #time to maturity in year\n",
    "S0 = 290.68\n",
    "K = 288.\n",
    "r = .02\n",
    "Call = 9.23\n",
    "Otype='C' #Call\n",
    "\n",
    "#If the volatility is 30%\n",
    "sigma = 0.30\n",
    "\n",
    "#print the answer with given sigma\n",
    "print('If the volatility is 30%, we can calculate the call value is', BSM_call_value(S0, K, 0, T, r, sigma))\n",
    "\n",
    "#Compute the implied volatility.\n",
    "def IVolBsm(S0, K, T, r, call):\n",
    "    \"\"\"\n",
    "    Inputs:\n",
    "        S0: spot price\n",
    "        K: strike\n",
    "        T: time to maturity in year\n",
    "        r: rate\n",
    "        Call: market price\n",
    "    Outputs:\n",
    "        Implied volatility\n",
    "    \"\"\"\n",
    "    InitVol = .3\n",
    "    error = lambda sigma: (BSM_call_value(S0, K, 0, T, r, sigma) - Call)**2\n",
    "    opt = sp.optimize.fmin(error, InitVol);\n",
    "    return opt[0]\n",
    "\n",
    "if __name__ == \"__main__\":\n",
    "    print('Implied volatility is', IVolBsm(S0, K, T, r, Call))\n",
    "    \n",
    "#check\n",
    "BSM_call_value(S0, K, 0, T, r, 0.11824219)\n",
    "#when volatility = 11.824219%， BSM call price = market call price"
   ]
  }
 ],
 "metadata": {
  "kernelspec": {
   "display_name": "Python 3 (Anaconda 5)",
   "language": "python",
   "name": "anaconda5"
  }
 },
 "nbformat": 4,
 "nbformat_minor": 0
}