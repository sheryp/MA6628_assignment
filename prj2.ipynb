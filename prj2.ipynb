{
 "cells": [
  {
   "cell_type": "markdown",
   "metadata": {
    "collapsed": false
   },
   "source": [
    "Prj02. (L04) This is an application of BSM evaluation to Geometric asian option price\n",
    "Geometric asian call option with maturity $T$ and strike $K$ has its pay off as\n",
    "$$C(T) = (A(T) - K)^+,$$ \n",
    "where $A(T)$ is geometric average of the stock price at times $0 \\le t_1 &lt; t_2, \\ldots, &lt; t_n = T$, i.e. \n",
    "$$A(T) = (S(t_1)S(t_2) \\ldots S(t_n))^{1/n}.$$\n",
    "The call price can be thus written by $$C_0 = \\mathbb E [e^{-rT} (A(T) - K)^+].$$\n",
    "To do Use \"BSM_option_valuation\" module to find the BSM asian option value with the following parameters"
   ]
  },
  {
   "cell_type": "code",
   "execution_count": 1,
   "metadata": {
    "collapsed": false
   },
   "outputs": [
    {
     "name": "stdout",
     "output_type": "stream",
     "text": [
      "The BSM asian option value is  2.7329867250697175\n"
     ]
    }
   ],
   "source": [
    "import numpy as np\n",
    "import scipy.stats as ss\n",
    "import time \n",
    "import math\n",
    "\n",
    "S0 = 100.0 #initial stock price\n",
    "K = 110.0 #strike\n",
    "r=0.0475 #interest rate\n",
    "sigma = 0.20 #vol\n",
    "T = 1. #maturity\n",
    "Otype='C' #Call type\n",
    "n = 4 #number of periods\n",
    "t = np.linspace(0., T, n+1)[1:] #times to be used for geometric averaging stock price\n",
    "\n",
    "def d1f(St, K, t, T, r, sigma):\n",
    "    ''' Black-Scholes-Merton d1 function.\n",
    "        Parameters see e.g. BSM_call_value function. '''\n",
    "    d1 = (math.log(St / K) + (r + 0.5 * sigma ** 2)\n",
    "          * (T - t)) / (sigma * math.sqrt(T - t))\n",
    "    return d1\n",
    "    \n",
    "def BSM_call_value(St, K, t, T, r, sigma):\n",
    "    d1 = d1f(St, K, t, T, r, sigma)\n",
    "    d2 = d1 - sigma * math.sqrt(T - t)\n",
    "    call_value = St * ss.norm.cdf(d1) - math.exp(-r * (T - t)) * K * ss.norm.cdf(d2)\n",
    "    return call_value\n",
    "    \n",
    "#introduce sigma_hat and r_hat\n",
    "sigma_hat = (sigma/n)*math.sqrt((n+1)*(2*n+1)/6)\n",
    "r_hat = 0.5*(sigma_hat)**2+((n+1)/(2*n))*(r-0.5*sigma**2)\n",
    "\n",
    "#demonstration for call evaluation\n",
    "BSM_call_value(S0, K, 0, T, r_hat, sigma_hat)\n",
    "\n",
    "#GAC price\n",
    "GAC = math.exp((r_hat -r)*T)*BSM_call_value(S0, K, 0, T, r_hat, sigma_hat)\n",
    "print('The BSM asian option value is ', GAC)"
   ]
  },
  {
   "cell_type": "code",
   "execution_count": 0,
   "metadata": {
    "collapsed": false
   },
   "outputs": [
   ],
   "source": [
   ]
  }
 ],
 "metadata": {
  "kernelspec": {
   "display_name": "Python 3 (Anaconda 5)",
   "language": "python",
   "name": "anaconda5"
  },
  "language_info": {
   "codemirror_mode": {
    "name": "ipython",
    "version": 3
   },
   "file_extension": ".py",
   "mimetype": "text/x-python",
   "name": "python",
   "nbconvert_exporter": "python",
   "pygments_lexer": "ipython3",
   "version": "3.6.5"
  }
 },
 "nbformat": 4,
 "nbformat_minor": 0
}